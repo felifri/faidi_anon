{
 "cells": [
  {
   "cell_type": "code",
   "execution_count": 1,
   "id": "5e2a6545",
   "metadata": {},
   "outputs": [
    {
     "name": "stdout",
     "output_type": "stream",
     "text": [
      "env: CUDA_DEVICE_ORDER=PCI_BUS_ID\n",
      "env: CUDA_VISIBLE_DEVICES=7\n"
     ]
    }
   ],
   "source": [
    "# set device/ GPU\n",
    "%env CUDA_DEVICE_ORDER=PCI_BUS_ID\n",
    "%env CUDA_VISIBLE_DEVICES=7"
   ]
  },
  {
   "cell_type": "code",
   "execution_count": 2,
   "id": "41aa7117",
   "metadata": {
    "collapsed": true,
    "jupyter": {
     "outputs_hidden": true
    }
   },
   "outputs": [
    {
     "name": "stderr",
     "output_type": "stream",
     "text": [
      "<frozen importlib._bootstrap>:219: RuntimeWarning: scipy._lib.messagestream.MessageStream size changed, may indicate binary incompatibility. Expected 56 from C header, got 64 from PyObject\n",
      "2023-02-07 14:02:53.389270: I tensorflow/core/platform/cpu_feature_guard.cc:193] This TensorFlow binary is optimized with oneAPI Deep Neural Network Library (oneDNN) to use the following CPU instructions in performance-critical operations:  AVX2 FMA\n",
      "To enable them in other operations, rebuild TensorFlow with the appropriate compiler flags.\n",
      "2023-02-07 14:02:54.127160: W tensorflow/compiler/xla/stream_executor/platform/default/dso_loader.cc:64] Could not load dynamic library 'libnvinfer.so.7'; dlerror: libnvinfer.so.7: cannot open shared object file: No such file or directory; LD_LIBRARY_PATH: /usr/local/cuda/compat/lib.real:/opt/conda/lib/python3.8/site-packages/torch/lib:/opt/conda/lib/python3.8/site-packages/torch_tensorrt/lib:/usr/local/cuda/compat/lib:/usr/local/nvidia/lib:/usr/local/nvidia/lib64\n",
      "2023-02-07 14:02:54.127260: W tensorflow/compiler/xla/stream_executor/platform/default/dso_loader.cc:64] Could not load dynamic library 'libnvinfer_plugin.so.7'; dlerror: libnvinfer_plugin.so.7: cannot open shared object file: No such file or directory; LD_LIBRARY_PATH: /usr/local/cuda/compat/lib.real:/opt/conda/lib/python3.8/site-packages/torch/lib:/opt/conda/lib/python3.8/site-packages/torch_tensorrt/lib:/usr/local/cuda/compat/lib:/usr/local/nvidia/lib:/usr/local/nvidia/lib64\n",
      "2023-02-07 14:02:54.127267: W tensorflow/compiler/tf2tensorrt/utils/py_utils.cc:38] TF-TRT Warning: Cannot dlopen some TensorRT libraries. If you would like to use Nvidia GPU with TensorRT, please make sure the missing libraries mentioned above are installed properly.\n"
     ]
    }
   ],
   "source": [
    "import pandas as pd\n",
    "from PIL import Image\n",
    "import numpy as np\n",
    "from tqdm import tqdm\n",
    "import matplotlib.pyplot as plt\n",
    "import matplotlib as mpl\n",
    "import matplotlib.lines as mlines\n",
    "import seaborn\n",
    "import re\n",
    "import tensorflow as tf\n",
    "from utils import detect_face, predict_age_gender_race, ensure_dir\n",
    "import dlib"
   ]
  },
  {
   "cell_type": "code",
   "execution_count": 3,
   "id": "f0730a3f",
   "metadata": {},
   "outputs": [],
   "source": [
    "def get_img_list(loc, occ, exp=0):\n",
    "    img_list = []\n",
    "    # images from laion dataset\n",
    "    if loc == \"laion\":\n",
    "        img_path = \"../../occupations\"\n",
    "        df = pd.read_json(f\"{img_path}/{occ}/laion2b_knn_face_complete.json\")\n",
    "        df = df.loc[df['local_image']]\n",
    "        df['i'] = df['i'].apply(lambda x: f\"{img_path}/{occ}/images/face/{x}.png\")\n",
    "        img_list = df.rename({'i': 'img_path'}, axis='columns')['img_path']\n",
    "    else:\n",
    "        # generated images with SD\n",
    "        if loc == \"generated\":\n",
    "            img_path = f\"generated_images/gender_imgs_{model_version}/{occ}\"\n",
    "        # edited images (50/50) from SD\n",
    "        elif loc == \"edited\":\n",
    "            img_path = f\"generated_images/gender_edited_imgs_{model_version}/{occ}\"\n",
    "        for i in range(0,250):\n",
    "            img_list.append(f\"{img_path}/image{i}.png\")\n",
    "    return img_list"
   ]
  },
  {
   "cell_type": "code",
   "execution_count": 4,
   "id": "456d4818",
   "metadata": {},
   "outputs": [],
   "source": [
    "with open('occupations.txt') as f:\n",
    "    occupations = [line.split(\"   \", 1)[0] for line in f][1:]\n",
    "    \n",
    "model_version = \"1-5\"\n",
    "len_ = len(occupations)\n",
    "action = \"gender\"\n",
    "classify_type = 'fairface'\n",
    "dlib.DLIB_USE_CUDA = True\n",
    "cnn_face_detector = dlib.cnn_face_detection_model_v1('dlib_models/mmod_human_face_detector.dat')"
   ]
  },
  {
   "cell_type": "code",
   "execution_count": 5,
   "id": "dc8b361b",
   "metadata": {
    "collapsed": true,
    "jupyter": {
     "outputs_hidden": true
    }
   },
   "outputs": [
    {
     "name": "stdout",
     "output_type": "stream",
     "text": [
      "                                   0\n",
      "0                         accountant\n",
      "1                 aerospace engineer\n",
      "2                               aide\n",
      "3         air conditioning installer\n",
      "4                          architect\n",
      "5                             artist\n",
      "6                             author\n",
      "7                              baker\n",
      "8                          bartender\n",
      "9                         bus driver\n",
      "10                           butcher\n",
      "11                  career counselor\n",
      "12                         carpenter\n",
      "13                  carpet installer\n",
      "14                           cashier\n",
      "15                               ceo\n",
      "16                  childcare worker\n",
      "17                    civil engineer\n",
      "18                  claims appraiser\n",
      "19                           cleaner\n",
      "20                            clergy\n",
      "21                             clerk\n",
      "22                             coach\n",
      "23                 community manager\n",
      "24                compliance officer\n",
      "25               computer programmer\n",
      "26       computer support specialist\n",
      "27          computer systems analyst\n",
      "28               construction worker\n",
      "29                              cook\n",
      "30              correctional officer\n",
      "31                           courier\n",
      "32                  credit counselor\n",
      "33   customer service representative\n",
      "34                  data entry keyer\n",
      "35                  dental assistant\n",
      "36                  dental hygienist\n",
      "37                           dentist\n",
      "38                          designer\n",
      "39                         detective\n",
      "40                          director\n",
      "41                        dishwasher\n",
      "42                        dispatcher\n",
      "43                            doctor\n",
      "44                 drywall installer\n",
      "45               electrical engineer\n",
      "46                       electrician\n",
      "47                          engineer\n",
      "48                     event planner\n",
      "49               executive assistant\n",
      "50                facilities manager\n",
      "51                            farmer\n",
      "52                  fast food worker\n",
      "53                        file clerk\n",
      "54                 financial advisor\n",
      "55                 financial analyst\n",
      "56                 financial manager\n",
      "57                       firefighter\n",
      "58                fitness instructor\n",
      "59                  graphic designer\n",
      "60                     groundskeeper\n",
      "61                       hairdresser\n",
      "62                         head cook\n",
      "63                 health technician\n",
      "64                              host\n",
      "65                           hostess\n",
      "66                       housekeeper\n",
      "67               industrial engineer\n",
      "68                   insurance agent\n",
      "69                 interior designer\n",
      "70                       interviewer\n",
      "71                   inventory clerk\n",
      "72                     it specialist\n",
      "73                            jailer\n",
      "74                           janitor\n",
      "75             laboratory technician\n",
      "76              language pathologist\n",
      "77                            lawyer\n",
      "78                         librarian\n",
      "79                       logistician\n",
      "80                machinery mechanic\n",
      "81                         machinist\n",
      "82                              maid\n",
      "83                           manager\n",
      "84                        manicurist\n",
      "85           market research analyst\n",
      "86                 marketing manager\n",
      "87                 massage therapist\n",
      "88                          mechanic\n",
      "89               mechanical engineer\n",
      "90        medical records specialist\n",
      "91           mental health counselor\n",
      "92                      metal worker\n",
      "93                             mover\n",
      "94                          musician\n",
      "95             network administrator\n",
      "96                             nurse\n",
      "97                 nursing assistant\n",
      "98                      nutritionist\n",
      "99            occupational therapist\n",
      "100                     office clerk\n",
      "101                    office worker\n",
      "102                          painter\n",
      "103                        paralegal\n",
      "104                    payroll clerk\n",
      "105                       pharmacist\n",
      "106              pharmacy technician\n",
      "107                     photographer\n",
      "108               physical therapist\n",
      "109                            pilot\n",
      "110                   plane mechanic\n",
      "111                          plumber\n",
      "112                   police officer\n",
      "113                    postal worker\n",
      "114          printing press operator\n",
      "115                         producer\n",
      "116                       programmer\n",
      "117                     psychologist\n",
      "118      public relations specialist\n",
      "119                 purchasing agent\n",
      "120            radiologic technician\n",
      "121               real estate broker\n",
      "122                     receptionist\n",
      "123                    repair worker\n",
      "124                           roofer\n",
      "125                    sales manager\n",
      "126                      salesperson\n",
      "127                school bus driver\n",
      "128                        scientist\n",
      "129                   security guard\n",
      "130               sheet metal worker\n",
      "131                           singer\n",
      "132                 social assistant\n",
      "133                    social worker\n",
      "134               software developer\n",
      "135                          stocker\n",
      "136                       supervisor\n",
      "137                      taxi driver\n",
      "138                          teacher\n",
      "139               teaching assistant\n",
      "140                           teller\n",
      "141                        therapist\n",
      "142                 tractor operator\n",
      "143                     truck driver\n",
      "144                            tutor\n",
      "145                      underwriter\n",
      "146                     veterinarian\n",
      "147                           waiter\n",
      "148                         waitress\n",
      "149                    web developer\n",
      "150                           welder\n",
      "151                  wholesale buyer\n",
      "152                           writer\n"
     ]
    }
   ],
   "source": [
    "science = [1,18,21,25,45,128]\n",
    "engineering = [1,4,17,25,26,27,45,47,67,89,116,134]\n",
    "arts = [5,6,38,59,69,94,102,107,131,152]\n",
    "caregiving = [16,22,35,36,37,43,66,82,87,91,96,97,99,108,117,132,133,138,139,141]\n",
    "with pd.option_context('display.max_rows', None, 'display.max_columns', None):\n",
    "    print(pd.DataFrame(occupations))"
   ]
  },
  {
   "cell_type": "code",
   "execution_count": 6,
   "id": "886fe159",
   "metadata": {},
   "outputs": [
    {
     "name": "stdout",
     "output_type": "stream",
     "text": [
      "all: 1834696\n",
      "science: 44366\n",
      "engineering: 69852\n",
      "arts: 41258\n",
      "caregiving: 119118\n"
     ]
    }
   ],
   "source": [
    "# number of laion images evaluated\n",
    "with open('occupations.txt') as f:\n",
    "    occupati = [re.findall(r'\\d+',line) for line in f][1:]\n",
    "    occupati = [int(occ[1]) for occ in occupati]\n",
    "print(f\"all: {sum(occupati)}\")\n",
    "print(f\"science: {sum(np.array(occupati)[science])}\")\n",
    "print(f\"engineering: {sum(np.array(occupati)[engineering])}\")\n",
    "print(f\"arts: {sum(np.array(occupati)[arts])}\")\n",
    "print(f\"caregiving: {sum(np.array(occupati)[caregiving])}\")"
   ]
  },
  {
   "cell_type": "code",
   "execution_count": 7,
   "id": "cbf8c941",
   "metadata": {},
   "outputs": [
    {
     "data": {
      "text/plain": [
       "['childcare worker',\n",
       " 'coach',\n",
       " 'dental assistant',\n",
       " 'dental hygienist',\n",
       " 'dentist',\n",
       " 'doctor',\n",
       " 'housekeeper',\n",
       " 'maid',\n",
       " 'massage therapist',\n",
       " 'mental health counselor',\n",
       " 'nurse',\n",
       " 'nursing assistant',\n",
       " 'occupational therapist',\n",
       " 'physical therapist',\n",
       " 'psychologist',\n",
       " 'social assistant',\n",
       " 'social worker',\n",
       " 'teacher',\n",
       " 'teaching assistant',\n",
       " 'therapist']"
      ]
     },
     "execution_count": 7,
     "metadata": {},
     "output_type": "execute_result"
    }
   ],
   "source": [
    "ls_ = []\n",
    "for i, occ in enumerate(occupations):\n",
    "    if i in caregiving:\n",
    "        ls_.append(occ)\n",
    "ls_"
   ]
  },
  {
   "cell_type": "markdown",
   "id": "d03e6e10",
   "metadata": {},
   "source": [
    "**Compute for Laion independent of SD model version**"
   ]
  },
  {
   "cell_type": "code",
   "execution_count": null,
   "id": "88ffa1f0",
   "metadata": {
    "collapsed": true,
    "jupyter": {
     "outputs_hidden": true
    }
   },
   "outputs": [
    {
     "name": "stderr",
     "output_type": "stream",
     "text": [
      "0it [00:00, ?it/s]"
     ]
    },
    {
     "name": "stdout",
     "output_type": "stream",
     "text": [
      "---0/9405---\n"
     ]
    },
    {
     "name": "stderr",
     "output_type": "stream",
     "text": [
      "1004it [01:14, 15.59it/s]"
     ]
    },
    {
     "name": "stdout",
     "output_type": "stream",
     "text": [
      "---1000/9405---\n"
     ]
    },
    {
     "name": "stderr",
     "output_type": "stream",
     "text": [
      "2002it [02:27, 13.29it/s]"
     ]
    },
    {
     "name": "stdout",
     "output_type": "stream",
     "text": [
      "---2000/9405---\n"
     ]
    },
    {
     "name": "stderr",
     "output_type": "stream",
     "text": [
      "3003it [03:39, 13.16it/s]"
     ]
    },
    {
     "name": "stdout",
     "output_type": "stream",
     "text": [
      "---3000/9405---\n"
     ]
    },
    {
     "name": "stderr",
     "output_type": "stream",
     "text": [
      "4006it [04:51, 15.26it/s]"
     ]
    },
    {
     "name": "stdout",
     "output_type": "stream",
     "text": [
      "---4000/9405---\n"
     ]
    },
    {
     "name": "stderr",
     "output_type": "stream",
     "text": [
      "5003it [06:03, 13.94it/s]"
     ]
    },
    {
     "name": "stdout",
     "output_type": "stream",
     "text": [
      "---5000/9405---\n"
     ]
    },
    {
     "name": "stderr",
     "output_type": "stream",
     "text": [
      "6001it [07:16, 14.50it/s]"
     ]
    },
    {
     "name": "stdout",
     "output_type": "stream",
     "text": [
      "---6000/9405---\n"
     ]
    },
    {
     "name": "stderr",
     "output_type": "stream",
     "text": [
      "7001it [08:29, 14.90it/s]"
     ]
    },
    {
     "name": "stdout",
     "output_type": "stream",
     "text": [
      "---7000/9405---\n"
     ]
    },
    {
     "name": "stderr",
     "output_type": "stream",
     "text": [
      "8002it [09:41, 15.29it/s]"
     ]
    },
    {
     "name": "stdout",
     "output_type": "stream",
     "text": [
      "---8000/9405---\n"
     ]
    },
    {
     "name": "stderr",
     "output_type": "stream",
     "text": [
      "8243it [09:59, 19.12it/s]"
     ]
    }
   ],
   "source": [
    "loc = 'laion'\n",
    "txt_file = open(f'results_{classify_type}_{loc}.txt', 'w+')\n",
    "for occ in occupations: \n",
    "    man, woman = 0, 0\n",
    "    SAVE_DETECTED_AT = f\"detected_faces/{loc}/{occ}\"\n",
    "    ensure_dir(SAVE_DETECTED_AT)\n",
    "    img_list = get_img_list(loc, occ)\n",
    "    detect_face(img_list, SAVE_DETECTED_AT, cnn_face_detector)\n",
    "    result = predict_age_gender_race(f\"detected_faces/{loc}/results_fairface_{occ}.csv\", SAVE_DETECTED_AT)\n",
    "    man = len(result[result[action]=='Male'])\n",
    "    woman = len(result[result[action]=='Female']) \n",
    "\n",
    "    txt_file.write(f'{occ}\\n')\n",
    "    txt_file.write(f'man: {man}, woman: {woman}\\n')\n",
    "txt_file.close()"
   ]
  },
  {
   "cell_type": "markdown",
   "id": "0db7c6b9",
   "metadata": {},
   "source": [
    "**Compute for generated images for a certain SD model version**"
   ]
  },
  {
   "cell_type": "code",
   "execution_count": null,
   "id": "5659f394",
   "metadata": {
    "collapsed": true,
    "jupyter": {
     "outputs_hidden": true
    }
   },
   "outputs": [
    {
     "name": "stderr",
     "output_type": "stream",
     "text": [
      "2it [00:02,  1.13it/s]"
     ]
    },
    {
     "name": "stdout",
     "output_type": "stream",
     "text": [
      "---0/250---\n"
     ]
    },
    {
     "name": "stderr",
     "output_type": "stream",
     "text": [
      "250it [00:30,  8.20it/s]\n",
      "0it [00:00, ?it/s]"
     ]
    },
    {
     "name": "stdout",
     "output_type": "stream",
     "text": [
      "Predicting... 0/250\n"
     ]
    },
    {
     "name": "stderr",
     "output_type": "stream",
     "text": [
      "250it [00:04, 56.27it/s]\n",
      "2it [00:00,  8.70it/s]"
     ]
    },
    {
     "name": "stdout",
     "output_type": "stream",
     "text": [
      "---0/250---\n"
     ]
    },
    {
     "name": "stderr",
     "output_type": "stream",
     "text": [
      "250it [00:29,  8.53it/s]\n",
      "9it [00:00, 80.97it/s]"
     ]
    },
    {
     "name": "stdout",
     "output_type": "stream",
     "text": [
      "Predicting... 0/250\n"
     ]
    },
    {
     "name": "stderr",
     "output_type": "stream",
     "text": [
      "250it [00:03, 68.38it/s]\n",
      "2it [00:00,  9.26it/s]"
     ]
    },
    {
     "name": "stdout",
     "output_type": "stream",
     "text": [
      "---0/250---\n"
     ]
    },
    {
     "name": "stderr",
     "output_type": "stream",
     "text": [
      "250it [00:28,  8.69it/s]\n",
      "6it [00:00, 49.40it/s]"
     ]
    },
    {
     "name": "stdout",
     "output_type": "stream",
     "text": [
      "Predicting... 0/250\n"
     ]
    },
    {
     "name": "stderr",
     "output_type": "stream",
     "text": [
      "250it [00:04, 53.99it/s]\n",
      "2it [00:00,  9.22it/s]"
     ]
    },
    {
     "name": "stdout",
     "output_type": "stream",
     "text": [
      "---0/250---\n"
     ]
    },
    {
     "name": "stderr",
     "output_type": "stream",
     "text": [
      "250it [00:28,  8.74it/s]\n",
      "2it [00:00, 16.03it/s]"
     ]
    },
    {
     "name": "stdout",
     "output_type": "stream",
     "text": [
      "Predicting... 0/250\n"
     ]
    },
    {
     "name": "stderr",
     "output_type": "stream",
     "text": [
      "250it [00:05, 47.99it/s]\n",
      "2it [00:00,  9.26it/s]"
     ]
    },
    {
     "name": "stdout",
     "output_type": "stream",
     "text": [
      "---0/250---\n"
     ]
    },
    {
     "name": "stderr",
     "output_type": "stream",
     "text": [
      "250it [00:28,  8.89it/s]\n",
      "14it [00:00, 68.41it/s]"
     ]
    },
    {
     "name": "stdout",
     "output_type": "stream",
     "text": [
      "Predicting... 0/250\n"
     ]
    },
    {
     "name": "stderr",
     "output_type": "stream",
     "text": [
      "250it [00:04, 57.84it/s]\n",
      "1it [00:00,  7.79it/s]"
     ]
    },
    {
     "name": "stdout",
     "output_type": "stream",
     "text": [
      "---0/250---\n"
     ]
    },
    {
     "name": "stderr",
     "output_type": "stream",
     "text": [
      "250it [00:28,  8.78it/s]\n",
      "5it [00:00, 42.66it/s]"
     ]
    },
    {
     "name": "stdout",
     "output_type": "stream",
     "text": [
      "Predicting... 0/250\n"
     ]
    },
    {
     "name": "stderr",
     "output_type": "stream",
     "text": [
      "250it [00:05, 45.96it/s]\n",
      "3it [00:00,  9.37it/s]"
     ]
    },
    {
     "name": "stdout",
     "output_type": "stream",
     "text": [
      "---0/250---\n"
     ]
    },
    {
     "name": "stderr",
     "output_type": "stream",
     "text": [
      "250it [00:28,  8.74it/s]\n",
      "6it [00:00, 59.27it/s]"
     ]
    },
    {
     "name": "stdout",
     "output_type": "stream",
     "text": [
      "Predicting... 0/250\n"
     ]
    },
    {
     "name": "stderr",
     "output_type": "stream",
     "text": [
      "250it [00:04, 59.46it/s]\n",
      "2it [00:00,  9.79it/s]"
     ]
    },
    {
     "name": "stdout",
     "output_type": "stream",
     "text": [
      "---0/250---\n"
     ]
    },
    {
     "name": "stderr",
     "output_type": "stream",
     "text": [
      "250it [00:28,  8.83it/s]\n",
      "8it [00:00, 77.78it/s]"
     ]
    },
    {
     "name": "stdout",
     "output_type": "stream",
     "text": [
      "Predicting... 0/250\n"
     ]
    },
    {
     "name": "stderr",
     "output_type": "stream",
     "text": [
      "250it [00:04, 56.46it/s]\n",
      "1it [00:00,  8.92it/s]"
     ]
    },
    {
     "name": "stdout",
     "output_type": "stream",
     "text": [
      "---0/250---\n"
     ]
    },
    {
     "name": "stderr",
     "output_type": "stream",
     "text": [
      "250it [00:28,  8.70it/s]\n",
      "4it [00:00, 31.14it/s]"
     ]
    },
    {
     "name": "stdout",
     "output_type": "stream",
     "text": [
      "Predicting... 0/250\n"
     ]
    },
    {
     "name": "stderr",
     "output_type": "stream",
     "text": [
      "250it [00:04, 50.62it/s]\n",
      "2it [00:00,  9.88it/s]"
     ]
    },
    {
     "name": "stdout",
     "output_type": "stream",
     "text": [
      "---0/250---\n"
     ]
    },
    {
     "name": "stderr",
     "output_type": "stream",
     "text": [
      "250it [00:28,  8.66it/s]\n",
      "4it [00:00, 34.11it/s]"
     ]
    },
    {
     "name": "stdout",
     "output_type": "stream",
     "text": [
      "Predicting... 0/250\n"
     ]
    },
    {
     "name": "stderr",
     "output_type": "stream",
     "text": [
      "250it [00:04, 56.00it/s]\n",
      "2it [00:00, 10.01it/s]"
     ]
    },
    {
     "name": "stdout",
     "output_type": "stream",
     "text": [
      "---0/250---\n"
     ]
    },
    {
     "name": "stderr",
     "output_type": "stream",
     "text": [
      "177it [00:19, 10.11it/s]"
     ]
    },
    {
     "name": "stdout",
     "output_type": "stream",
     "text": [
      "no face found 175\n"
     ]
    },
    {
     "name": "stderr",
     "output_type": "stream",
     "text": [
      "250it [00:27,  8.97it/s]\n",
      "5it [00:00, 45.42it/s]"
     ]
    },
    {
     "name": "stdout",
     "output_type": "stream",
     "text": [
      "Predicting... 0/249\n"
     ]
    },
    {
     "name": "stderr",
     "output_type": "stream",
     "text": [
      "249it [00:04, 60.87it/s]\n",
      "2it [00:00,  9.13it/s]"
     ]
    },
    {
     "name": "stdout",
     "output_type": "stream",
     "text": [
      "---0/250---\n"
     ]
    },
    {
     "name": "stderr",
     "output_type": "stream",
     "text": [
      "250it [00:28,  8.69it/s]\n",
      "3it [00:00, 24.67it/s]"
     ]
    },
    {
     "name": "stdout",
     "output_type": "stream",
     "text": [
      "Predicting... 0/250\n"
     ]
    },
    {
     "name": "stderr",
     "output_type": "stream",
     "text": [
      "250it [00:04, 51.82it/s]\n",
      "2it [00:00,  8.20it/s]"
     ]
    },
    {
     "name": "stdout",
     "output_type": "stream",
     "text": [
      "---0/250---\n"
     ]
    },
    {
     "name": "stderr",
     "output_type": "stream",
     "text": [
      "250it [00:28,  8.74it/s]\n",
      "9it [00:00, 89.11it/s]"
     ]
    },
    {
     "name": "stdout",
     "output_type": "stream",
     "text": [
      "Predicting... 0/250\n"
     ]
    },
    {
     "name": "stderr",
     "output_type": "stream",
     "text": [
      "250it [00:04, 61.46it/s]\n",
      "2it [00:00,  9.03it/s]"
     ]
    },
    {
     "name": "stdout",
     "output_type": "stream",
     "text": [
      "---0/250---\n"
     ]
    },
    {
     "name": "stderr",
     "output_type": "stream",
     "text": [
      "250it [00:28,  8.80it/s]\n",
      "10it [00:00, 95.48it/s]"
     ]
    },
    {
     "name": "stdout",
     "output_type": "stream",
     "text": [
      "Predicting... 0/250\n"
     ]
    },
    {
     "name": "stderr",
     "output_type": "stream",
     "text": [
      "250it [00:04, 61.07it/s]\n",
      "3it [00:00,  8.85it/s]"
     ]
    },
    {
     "name": "stdout",
     "output_type": "stream",
     "text": [
      "---0/250---\n"
     ]
    },
    {
     "name": "stderr",
     "output_type": "stream",
     "text": [
      "250it [00:28,  8.78it/s]\n",
      "6it [00:00, 51.34it/s]"
     ]
    },
    {
     "name": "stdout",
     "output_type": "stream",
     "text": [
      "Predicting... 0/250\n"
     ]
    },
    {
     "name": "stderr",
     "output_type": "stream",
     "text": [
      "250it [00:03, 67.29it/s]\n",
      "2it [00:00,  9.55it/s]"
     ]
    },
    {
     "name": "stdout",
     "output_type": "stream",
     "text": [
      "---0/250---\n"
     ]
    },
    {
     "name": "stderr",
     "output_type": "stream",
     "text": [
      "250it [00:27,  9.08it/s]\n",
      "6it [00:00, 57.68it/s]"
     ]
    },
    {
     "name": "stdout",
     "output_type": "stream",
     "text": [
      "Predicting... 0/250\n"
     ]
    },
    {
     "name": "stderr",
     "output_type": "stream",
     "text": [
      "250it [00:04, 60.71it/s]\n",
      "1it [00:00,  7.71it/s]"
     ]
    },
    {
     "name": "stdout",
     "output_type": "stream",
     "text": [
      "---0/250---\n"
     ]
    },
    {
     "name": "stderr",
     "output_type": "stream",
     "text": [
      "250it [00:29,  8.56it/s]\n",
      "9it [00:00, 86.54it/s]"
     ]
    },
    {
     "name": "stdout",
     "output_type": "stream",
     "text": [
      "Predicting... 0/250\n"
     ]
    },
    {
     "name": "stderr",
     "output_type": "stream",
     "text": [
      "250it [00:03, 66.45it/s]\n",
      "2it [00:00,  9.38it/s]"
     ]
    },
    {
     "name": "stdout",
     "output_type": "stream",
     "text": [
      "---0/250---\n"
     ]
    },
    {
     "name": "stderr",
     "output_type": "stream",
     "text": [
      "250it [00:28,  8.79it/s]\n",
      "9it [00:00, 83.72it/s]"
     ]
    },
    {
     "name": "stdout",
     "output_type": "stream",
     "text": [
      "Predicting... 0/250\n"
     ]
    },
    {
     "name": "stderr",
     "output_type": "stream",
     "text": [
      "250it [00:04, 53.55it/s]\n",
      "3it [00:00,  9.76it/s]"
     ]
    },
    {
     "name": "stdout",
     "output_type": "stream",
     "text": [
      "---0/250---\n"
     ]
    },
    {
     "name": "stderr",
     "output_type": "stream",
     "text": [
      "250it [00:27,  8.98it/s]\n",
      "6it [00:00, 55.64it/s]"
     ]
    },
    {
     "name": "stdout",
     "output_type": "stream",
     "text": [
      "Predicting... 0/250\n"
     ]
    },
    {
     "name": "stderr",
     "output_type": "stream",
     "text": [
      "250it [00:03, 62.96it/s]\n",
      "1it [00:00,  4.93it/s]"
     ]
    },
    {
     "name": "stdout",
     "output_type": "stream",
     "text": [
      "---0/250---\n"
     ]
    },
    {
     "name": "stderr",
     "output_type": "stream",
     "text": [
      "250it [00:27,  9.04it/s]\n",
      "5it [00:00, 45.35it/s]"
     ]
    },
    {
     "name": "stdout",
     "output_type": "stream",
     "text": [
      "Predicting... 0/250\n"
     ]
    },
    {
     "name": "stderr",
     "output_type": "stream",
     "text": [
      "250it [00:04, 60.17it/s]\n",
      "1it [00:00,  9.22it/s]"
     ]
    },
    {
     "name": "stdout",
     "output_type": "stream",
     "text": [
      "---0/250---\n"
     ]
    },
    {
     "name": "stderr",
     "output_type": "stream",
     "text": [
      "250it [00:28,  8.84it/s]\n",
      "9it [00:00, 86.90it/s]"
     ]
    },
    {
     "name": "stdout",
     "output_type": "stream",
     "text": [
      "Predicting... 0/250\n"
     ]
    },
    {
     "name": "stderr",
     "output_type": "stream",
     "text": [
      "250it [00:04, 60.13it/s]\n",
      "2it [00:00, 10.00it/s]"
     ]
    },
    {
     "name": "stdout",
     "output_type": "stream",
     "text": [
      "---0/250---\n"
     ]
    },
    {
     "name": "stderr",
     "output_type": "stream",
     "text": [
      "250it [00:28,  8.64it/s]\n",
      "10it [00:00, 90.95it/s]"
     ]
    },
    {
     "name": "stdout",
     "output_type": "stream",
     "text": [
      "Predicting... 0/250\n"
     ]
    },
    {
     "name": "stderr",
     "output_type": "stream",
     "text": [
      "250it [00:03, 65.98it/s]\n",
      "2it [00:00,  9.83it/s]"
     ]
    },
    {
     "name": "stdout",
     "output_type": "stream",
     "text": [
      "---0/250---\n"
     ]
    },
    {
     "name": "stderr",
     "output_type": "stream",
     "text": [
      "250it [00:28,  8.81it/s]\n",
      "8it [00:00, 75.87it/s]"
     ]
    },
    {
     "name": "stdout",
     "output_type": "stream",
     "text": [
      "Predicting... 0/250\n"
     ]
    },
    {
     "name": "stderr",
     "output_type": "stream",
     "text": [
      "250it [00:28,  8.85it/s]\n",
      "6it [00:00, 48.81it/s]"
     ]
    },
    {
     "name": "stdout",
     "output_type": "stream",
     "text": [
      "Predicting... 0/250\n"
     ]
    },
    {
     "name": "stderr",
     "output_type": "stream",
     "text": [
      "250it [00:04, 50.96it/s]\n",
      "2it [00:00,  8.95it/s]"
     ]
    },
    {
     "name": "stdout",
     "output_type": "stream",
     "text": [
      "---0/250---\n"
     ]
    },
    {
     "name": "stderr",
     "output_type": "stream",
     "text": [
      "250it [00:28,  8.66it/s]\n",
      "10it [00:00, 97.37it/s]"
     ]
    },
    {
     "name": "stdout",
     "output_type": "stream",
     "text": [
      "Predicting... 0/250\n"
     ]
    },
    {
     "name": "stderr",
     "output_type": "stream",
     "text": [
      "250it [00:03, 62.73it/s]\n",
      "1it [00:00,  5.23it/s]"
     ]
    },
    {
     "name": "stdout",
     "output_type": "stream",
     "text": [
      "---0/250---\n"
     ]
    },
    {
     "name": "stderr",
     "output_type": "stream",
     "text": [
      "250it [00:28,  8.77it/s]\n",
      "5it [00:00, 47.07it/s]"
     ]
    },
    {
     "name": "stdout",
     "output_type": "stream",
     "text": [
      "Predicting... 0/250\n"
     ]
    },
    {
     "name": "stderr",
     "output_type": "stream",
     "text": [
      "250it [00:04, 57.01it/s]\n",
      "1it [00:00,  9.39it/s]"
     ]
    },
    {
     "name": "stdout",
     "output_type": "stream",
     "text": [
      "---0/250---\n"
     ]
    },
    {
     "name": "stderr",
     "output_type": "stream",
     "text": [
      "217it [00:24,  8.85it/s]"
     ]
    }
   ],
   "source": [
    "for loc in['generated', 'edited']:\n",
    "txt_file = open(f'results_{classify_type}_{loc}_{model_version}.txt', 'w+')\n",
    "for occ in occupations: \n",
    "    man, woman = 0, 0\n",
    "    SAVE_DETECTED_AT = f\"detected_faces/{model_version}/{loc}/{occ}\"\n",
    "    ensure_dir(SAVE_DETECTED_AT)\n",
    "    img_list = get_img_list(loc, occ)\n",
    "    detect_face(img_list, SAVE_DETECTED_AT, cnn_face_detector)\n",
    "    result = predict_age_gender_race(f\"detected_faces/{model_version}/{loc}/results_fairface_{occ}.csv\", SAVE_DETECTED_AT)\n",
    "    man = len(result[result[action]=='Male'])\n",
    "    woman = len(result[result[action]=='Female'])\n",
    "\n",
    "    txt_file.write(f'{occ}\\n')\n",
    "    txt_file.write(f'man: {man}, woman: {woman}\\n')\n",
    "txt_file.close()"
   ]
  },
  {
   "cell_type": "markdown",
   "id": "ab3f70fa",
   "metadata": {},
   "source": [
    "**Generate plot of Results**"
   ]
  },
  {
   "cell_type": "code",
   "execution_count": 28,
   "id": "be0745d4",
   "metadata": {},
   "outputs": [],
   "source": [
    "def load_from_txt(fname):\n",
    "    df = pd.read_csv(fname, sep= ' ', skiprows = range(0,len_*2,2), header=None)\n",
    "    df = df.drop(columns=[0,2,4,5])\n",
    "    df.iloc[:,0] = df.iloc[:,0].apply(lambda a: a.replace(',', ''))\n",
    "    df.iloc[:,1] = df.iloc[:,1].apply(lambda a: a.replace(',', ''))\n",
    "    df = df.astype(int)\n",
    "    df = df.div(df.sum(axis=1), axis=0)\n",
    "    return df.iloc[:,1]"
   ]
  },
  {
   "cell_type": "markdown",
   "id": "764a062b",
   "metadata": {},
   "source": [
    "**Compute best edit technique**"
   ]
  },
  {
   "cell_type": "code",
   "execution_count": 68,
   "id": "dace85d2",
   "metadata": {},
   "outputs": [],
   "source": [
    "#for fname in ['results_fairface_generated_1-5.txt', 'results_fairface_edited_1-5.txt', 'results_fairface_laion.txt', ]:\n",
    "df1 = load_from_txt('results_fairface_generated_1-5.txt')\n",
    "df2 = load_from_txt(f'results_fairface_edited_1-5.txt')\n",
    "df3 = load_from_txt('results_fairface_laion.txt')"
   ]
  },
  {
   "cell_type": "code",
   "execution_count": 69,
   "id": "07a3ddbf",
   "metadata": {},
   "outputs": [
    {
     "data": {
      "text/plain": [
       "61"
      ]
     },
     "execution_count": 69,
     "metadata": {},
     "output_type": "execute_result"
    }
   ],
   "source": [
    "# pick top 6 occupations to visualize\n",
    "occ_dict = {k: v for v, k in enumerate(occupations)}\n",
    "occs_ = ['firefighter', 'social worker', 'coach', 'designer', 'teacher', 'aide']\n",
    "occ_ids = [occ_dict[oc] for oc in occs_]\n",
    "#social worker\n",
    "\n",
    "# select values for top occs\n",
    "generated = df1.loc[occ_ids].to_numpy()\n",
    "edited = df2.loc[occ_ids].to_numpy()\n",
    "laion_base = df3.loc[occ_ids].to_numpy()\n",
    "\n",
    "# compute occupation proportion mean for each method\n",
    "means = [df1.mean(), df2.mean(), df3.mean()]\n",
    "errs = [df1.std(), df2.std(), df3.std()]\n",
    "\n",
    "# select fe/male bias lists for amp/ref/mit evaluation\n",
    "ids = df3<0.5\n",
    "ids_ = df3>=0.5\n",
    "\n",
    "ids1 = df1[ids].index\n",
    "ids2 = df2[ids].index\n",
    "ids3 = df3[ids].index\n",
    "ids1_ = df1[ids_].index\n",
    "ids2_ = df2[ids_].index\n",
    "ids3_ = df3[ids_].index\n",
    "# len of more female-biased, i.e. in total more occupations are male-biased\n",
    "len(ids1_)"
   ]
  },
  {
   "cell_type": "code",
   "execution_count": 70,
   "id": "05094b29",
   "metadata": {},
   "outputs": [
    {
     "name": "stdout",
     "output_type": "stream",
     "text": [
      "0.3419999999999999 0.17094092546842024\n",
      "0.18933333333333335 0.14790004814882327\n",
      "0.5464 0.24058595137704947\n",
      "0.7556926829268291 0.2610700588991194\n"
     ]
    }
   ],
   "source": [
    "# LAION statistics.\n",
    "print(df1[science].mean(), df1[science].std())\n",
    "print(df1[engineering].mean(), df1[engineering].std())\n",
    "print(df1[arts].mean(), df1[arts].std())\n",
    "print(df1[caregiving].mean(), df1[caregiving].std())"
   ]
  },
  {
   "cell_type": "code",
   "execution_count": 71,
   "id": "0047048b",
   "metadata": {},
   "outputs": [
    {
     "data": {
      "text/plain": [
       "0.0457516339869281"
      ]
     },
     "execution_count": 71,
     "metadata": {},
     "output_type": "execute_result"
    }
   ],
   "source": [
    "# amount of occupations where there is no significant bias present in the first place\n",
    "m = 0\n",
    "for i in df3:\n",
    "    if 0.47 < i < 0.53:\n",
    "        m += 1\n",
    "m/len(df3)"
   ]
  },
  {
   "cell_type": "code",
   "execution_count": 72,
   "id": "e2ae471e",
   "metadata": {},
   "outputs": [
    {
     "name": "stdout",
     "output_type": "stream",
     "text": [
      "0.5686274509803921 0.21568627450980393 0.21568627450980393\n"
     ]
    }
   ],
   "source": [
    "# LAION vs SD: amount of occupations where bias is amplified, reflected, or mitigated by SD compared to LAION\n",
    "amp, ref, mit = 0, 0, 0\n",
    "for i in range(len(df3)):\n",
    "    if df3[i]-0.04 < df1[i] < df3[i] +0.04:\n",
    "        ref += 1\n",
    "    elif abs(df3[i]-0.5) < abs(df1[i]-0.5):\n",
    "        amp += 1\n",
    "    elif abs(df3[i]-0.5) >= abs(df1[i]-0.5):\n",
    "        mit += 1\n",
    "print(amp/len(df3), ref/len(df3), mit/len(df3))"
   ]
  },
  {
   "cell_type": "code",
   "execution_count": 73,
   "id": "a23ae132",
   "metadata": {},
   "outputs": [
    {
     "data": {
      "image/png": "[encoded data removed]",
      "text/plain": [
       "<Figure size 1500x1020 with 1 Axes>"
      ]
     },
     "metadata": {},
     "output_type": "display_data"
    }
   ],
   "source": [
    "%matplotlib inline\n",
    "\n",
    "fig = plt.figure(dpi=300,figsize=(5, 3.4))\n",
    "seaborn.set_palette(\"deep\")\n",
    "colors = seaborn.color_palette(\"deep\")\n",
    "ax = plt.gca()\n",
    "\n",
    "occs = occs_ + ['LAION m', 'LAION f', 'Stable Diffusion m', 'Stable Diffusion f', 'Fair Diffusion m', 'Fair Diffusion f']\n",
    "\n",
    "first = np.arange(0, 0.7*6, 0.7)\n",
    "x_pos = np.append(first, np.array([4.7,5.15,5.95,6.4,7.3,7.75]))\n",
    "\n",
    "# separate two image parts\n",
    "ax.vlines(x = x_pos[5]+0.6-0.03, ymin = -0.01, ymax=1.01, colors='black',linewidth=1)\n",
    "ax.vlines(x = x_pos[5]+0.6+0.03, ymin = -0.01, ymax=1.01, colors='black',linewidth=1)\n",
    "\n",
    "# plot fair boundary with gradient background\n",
    "ax.barh(0.5, width=10.3, height=0.093, left=-0.3, color='green', alpha=0.2, label='fair boundary')\n",
    "\n",
    "# plot laion bars\n",
    "ax.hlines(y = laion_base, xmin = x_pos[:6]-0.25, xmax = x_pos[:6]+0.25, colors='dimgray', label='LAION')\n",
    "# plot SD bars\n",
    "ax.hlines(y = generated, xmin = x_pos[:6]-0.25, xmax = x_pos[:6]+0.25, colors=colors[0], label='SD_', alpha=0.5)\n",
    "\n",
    "# plot arrows for sd and sega\n",
    "for i in range(len(laion_base)):\n",
    "    if i==0:\n",
    "        lbl, lbl_ = 'Fair Diffusion', 'Stable Diffusion'\n",
    "    else:\n",
    "        lbl, lbl_ = '_nolegend_', '_nolegend_'\n",
    "    ax.arrow(y=laion_base[i], x=x_pos[i]-0.06, dy=generated[i] - laion_base[i], dx=0, head_width=0.15, head_length=0.01, length_includes_head=True, fc=colors[0], ec=colors[0], label=lbl_)\n",
    "    ax.arrow(y=generated[i], x=x_pos[i]+0.06, dy=edited[i] - generated[i], dx=0, head_width=0.15, head_length=0.01, length_includes_head=True, fc=colors[2], ec=colors[2], label=lbl,)\n",
    "\n",
    "    \n",
    "# plot box plots for average scores\n",
    "ax.boxplot(df3[ids3], positions=[x_pos[6]], vert=True, widths=0.3, sym='')\n",
    "ax.boxplot(df3[ids3_], positions=[x_pos[7]], vert=True, widths=0.3, sym='')\n",
    "ax.boxplot(df1[ids1], positions=[x_pos[8]], vert=True, widths=0.3, sym='')\n",
    "ax.boxplot(df1[ids1_], positions=[x_pos[9]], vert=True, widths=0.3, sym='')\n",
    "ax.boxplot(df2[ids2], positions=[x_pos[10]], vert=True, widths=0.3, sym='')\n",
    "ax.boxplot(df2[ids2_], positions=[x_pos[11]], vert=True, widths=0.3, sym='')\n",
    "\n",
    "\n",
    "# Add labels to the axes and the legend\n",
    "ax.set_xticks(x_pos, labels=occs)\n",
    "ax.set_ylim(ymin=-0.01, ymax=1.01)\n",
    "ax.set_xlim(xmin=x_pos[0]-0.3,xmax=x_pos[-1]+0.3)\n",
    "ax.set_yticks([])\n",
    "\n",
    "# refine handles\n",
    "handles, labels = ax.get_legend_handles_labels()\n",
    "sd_handle = mlines.Line2D([], [], color=colors[0], label='Stable Diffusion')\n",
    "sega_handle = mlines.Line2D([], [], color=colors[2], label='Fair Diffusion')\n",
    "\n",
    "ax.set_xticklabels(fontsize=8, color='black', labels=occs)\n",
    "ax.set_xlabel('rate of female-appearing persons')\n",
    "ax.legend(bbox_to_anchor=(0.995, 0.59),handles=[handles[0],sd_handle,sega_handle,handles[4]])\n",
    "plt.text(-0.06, 0.82, 'more female-\\nappearing persons', fontsize=7, transform=plt.gcf().transFigure)\n",
    "plt.text(-0.06, 0.21, 'fewer female-\\nappearing persons', fontsize=7, transform=plt.gcf().transFigure)\n",
    "ax.xaxis.set_label_position('top') \n",
    "fig.autofmt_xdate()\n",
    "\n",
    "plt.savefig('figure.png', format='png', bbox_inches='tight',dpi=500)\n",
    "plt.savefig('figure.svg', bbox_inches='tight',dpi=500)\n",
    "plt.show()"
   ]
  }
 ],
 "metadata": {
  "kernelspec": {
   "display_name": "Python 3 (ipykernel)",
   "language": "python",
   "name": "python3"
  },
  "language_info": {
   "codemirror_mode": {
    "name": "ipython",
    "version": 3
   },
   "file_extension": ".py",
   "mimetype": "text/x-python",
   "name": "python",
   "nbconvert_exporter": "python",
   "pygments_lexer": "ipython3",
   "version": "3.8.13"
  }
 },
 "nbformat": 4,
 "nbformat_minor": 5
}
