{
 "cells": [
  {
   "cell_type": "code",
   "execution_count": 1,
   "id": "3a731f14",
   "metadata": {},
   "outputs": [
    {
     "name": "stderr",
     "output_type": "stream",
     "text": [
      "<frozen importlib._bootstrap>:219: RuntimeWarning: scipy._lib.messagestream.MessageStream size changed, may indicate binary incompatibility. Expected 56 from C header, got 64 from PyObject\n"
     ]
    }
   ],
   "source": [
    "import torch\n",
    "import clip\n",
    "from PIL import Image\n",
    "import logging\n",
    "import pandas as pd\n",
    "import glob \n",
    "import os\n",
    "from io import BytesIO\n",
    "from PIL import UnidentifiedImageError\n",
    "import subprocess\n",
    "from weat.test import Test"
   ]
  },
  {
   "cell_type": "code",
   "execution_count": 2,
   "id": "13d3d69b",
   "metadata": {},
   "outputs": [],
   "source": [
    "device = \"cuda\" if torch.cuda.is_available() else \"cpu\"\n",
    "model, preprocess = clip.load(\"ViT-L/14\", device=device)"
   ]
  },
  {
   "cell_type": "code",
   "execution_count": 3,
   "id": "171b77eb",
   "metadata": {},
   "outputs": [],
   "source": [
    "class dwebpException(Exception):\n",
    "    pass\n",
    "\n",
    "def dwebp(file: str):\n",
    "    webp = subprocess.run(\n",
    "        f\"dwebp  {file} -quiet -o -\", shell=True, capture_output=True\n",
    "    )\n",
    "    if webp.returncode != 0:\n",
    "        raise dwebpException(webp.stderr.decode())\n",
    "    else:\n",
    "        return Image.open(BytesIO(webp.stdout))\n",
    "\n",
    "def load_dir(path):\n",
    "    tmp = []\n",
    "    \n",
    "    for file in glob.glob(path):\n",
    "        with torch.no_grad():\n",
    "            try:\n",
    "                img = Image.open(file)\n",
    "            except UnidentifiedImageError:\n",
    "                if os.path.splitext(file)[1].lower() == \".webp\":\n",
    "                    img = dwebp(file)\n",
    "                  \n",
    "                else:\n",
    "                    raise\n",
    "            prep = preprocess(img).unsqueeze(0).to(device)\n",
    "            emb = model.encode_image(prep)\n",
    "            tmp.append(emb.cpu())\n",
    "    return tmp"
   ]
  },
  {
   "cell_type": "code",
   "execution_count": 4,
   "id": "953aebf9",
   "metadata": {},
   "outputs": [
    {
     "name": "stderr",
     "output_type": "stream",
     "text": [
      "/opt/conda/lib/python3.8/site-packages/PIL/Image.py:3007: UserWarning: image file could not be identified because WEBP support not installed\n",
      "  warnings.warn(message)\n",
      "02/07 01:42:51 PM: Computing cosine similarities...\n",
      "02/07 01:42:51 PM: Null hypothesis: no difference between X and Y in association to attributes A and B\n",
      "02/07 01:42:51 PM: Computing pval...\n",
      "02/07 01:42:51 PM: Using non-parametric test\n",
      "02/07 01:42:51 PM: Drawing 9999 samples (and biasing by 1)\n",
      "02/07 01:42:51 PM: pval: 0.0021\n",
      "02/07 01:42:51 PM: computing effect size...\n",
      "02/07 01:42:51 PM: esize: 0.628708\n"
     ]
    },
    {
     "data": {
      "text/html": [
       "<div>\n",
       "<style scoped>\n",
       "    .dataframe tbody tr th:only-of-type {\n",
       "        vertical-align: middle;\n",
       "    }\n",
       "\n",
       "    .dataframe tbody tr th {\n",
       "        vertical-align: top;\n",
       "    }\n",
       "\n",
       "    .dataframe thead th {\n",
       "        text-align: right;\n",
       "    }\n",
       "</style>\n",
       "<table border=\"1\" class=\"dataframe\">\n",
       "  <thead>\n",
       "    <tr style=\"text-align: right;\">\n",
       "      <th></th>\n",
       "      <th>Name</th>\n",
       "      <th>X</th>\n",
       "      <th>Y</th>\n",
       "      <th>A</th>\n",
       "      <th>B</th>\n",
       "      <th>n_t</th>\n",
       "      <th>n_a</th>\n",
       "      <th>p_i</th>\n",
       "      <th>d_i</th>\n",
       "    </tr>\n",
       "  </thead>\n",
       "  <tbody>\n",
       "    <tr>\n",
       "      <th>0</th>\n",
       "      <td>Gender</td>\n",
       "      <td>Male</td>\n",
       "      <td>Female</td>\n",
       "      <td>Science</td>\n",
       "      <td>Arts</td>\n",
       "      <td>40</td>\n",
       "      <td>21</td>\n",
       "      <td>0.0021</td>\n",
       "      <td>0.628708</td>\n",
       "    </tr>\n",
       "  </tbody>\n",
       "</table>\n",
       "</div>"
      ],
      "text/plain": [
       "     Name     X       Y        A     B  n_t  n_a     p_i       d_i\n",
       "0  Gender  Male  Female  Science  Arts   40   21  0.0021  0.628708"
      ]
     },
     "execution_count": 4,
     "metadata": {},
     "output_type": "execute_result"
    }
   ],
   "source": [
    "X_image = torch.cat(load_dir('./ieat/data/experiments/gender/male/*'))\n",
    "Y_image = torch.cat(load_dir('./ieat/data/experiments/gender/female/*'))\n",
    "A_image = torch.cat(load_dir('./ieat/data/experiments/gender/science/*'))\n",
    "B_image = torch.cat(load_dir('./ieat/data/experiments/gender/liberal-arts/*'))\n",
    "\n",
    "test = Test(X_image, Y_image, A_image, B_image)\n",
    "out = test.run()\n",
    "        \n",
    "df = pd.DataFrame([{'Name': 'Gender', 'X': 'Male', 'Y': 'Female', 'A': 'Science', 'B': 'Arts', 'n_t': X_image.shape[0], 'n_a': A_image.shape[0], 'p_i': out[1], 'd_i': out[0]}])\n",
    "df"
   ]
  },
  {
   "cell_type": "code",
   "execution_count": 5,
   "id": "8a2b8906",
   "metadata": {},
   "outputs": [
    {
     "name": "stderr",
     "output_type": "stream",
     "text": [
      "/opt/conda/lib/python3.8/site-packages/PIL/Image.py:3007: UserWarning: image file could not be identified because WEBP support not installed\n",
      "  warnings.warn(message)\n",
      "02/07 01:42:55 PM: Computing cosine similarities...\n",
      "02/07 01:42:55 PM: Null hypothesis: no difference between X and Y in association to attributes A and B\n",
      "02/07 01:42:55 PM: Computing pval...\n",
      "02/07 01:42:55 PM: Using non-parametric test\n",
      "02/07 01:42:55 PM: Drawing 9999 samples (and biasing by 1)\n",
      "02/07 01:42:55 PM: pval: 0.0053\n",
      "02/07 01:42:55 PM: computing effect size...\n",
      "02/07 01:42:55 PM: esize: 0.571415\n"
     ]
    },
    {
     "data": {
      "text/html": [
       "<div>\n",
       "<style scoped>\n",
       "    .dataframe tbody tr th:only-of-type {\n",
       "        vertical-align: middle;\n",
       "    }\n",
       "\n",
       "    .dataframe tbody tr th {\n",
       "        vertical-align: top;\n",
       "    }\n",
       "\n",
       "    .dataframe thead th {\n",
       "        text-align: right;\n",
       "    }\n",
       "</style>\n",
       "<table border=\"1\" class=\"dataframe\">\n",
       "  <thead>\n",
       "    <tr style=\"text-align: right;\">\n",
       "      <th></th>\n",
       "      <th>Name</th>\n",
       "      <th>X</th>\n",
       "      <th>Y</th>\n",
       "      <th>A</th>\n",
       "      <th>B</th>\n",
       "      <th>n_t</th>\n",
       "      <th>n_a</th>\n",
       "      <th>p_i</th>\n",
       "      <th>d_i</th>\n",
       "    </tr>\n",
       "  </thead>\n",
       "  <tbody>\n",
       "    <tr>\n",
       "      <th>0</th>\n",
       "      <td>Gender</td>\n",
       "      <td>Male</td>\n",
       "      <td>Female</td>\n",
       "      <td>Engineering</td>\n",
       "      <td>Caregiving</td>\n",
       "      <td>40</td>\n",
       "      <td>12</td>\n",
       "      <td>0.0053</td>\n",
       "      <td>0.571415</td>\n",
       "    </tr>\n",
       "  </tbody>\n",
       "</table>\n",
       "</div>"
      ],
      "text/plain": [
       "     Name     X       Y            A           B  n_t  n_a     p_i       d_i\n",
       "0  Gender  Male  Female  Engineering  Caregiving   40   12  0.0053  0.571415"
      ]
     },
     "execution_count": 5,
     "metadata": {},
     "output_type": "execute_result"
    }
   ],
   "source": [
    "X_image = torch.cat(load_dir('./ieat/data/experiments/gender/male/*'))\n",
    "Y_image = torch.cat(load_dir('./ieat/data/experiments/gender/female/*'))\n",
    "A_image = torch.cat(load_dir('./ieat/data/experiments/gender/engineering/*'))\n",
    "B_image = torch.cat(load_dir('./ieat/data/experiments/gender/care/*'))\n",
    "\n",
    "test = Test(X_image, Y_image, A_image, B_image)\n",
    "out = test.run()\n",
    "        \n",
    "df = pd.DataFrame([{'Name': 'Gender', 'X': 'Male', 'Y': 'Female', 'A': 'Engineering', 'B': 'Caregiving', 'n_t': X_image.shape[0], 'n_a': A_image.shape[0], 'p_i': out[1], 'd_i': out[0]}])\n",
    "df"
   ]
  },
  {
   "cell_type": "code",
   "execution_count": 6,
   "id": "38cd09b3",
   "metadata": {},
   "outputs": [
    {
     "name": "stderr",
     "output_type": "stream",
     "text": [
      "/opt/conda/lib/python3.8/site-packages/PIL/Image.py:3007: UserWarning: image file could not be identified because WEBP support not installed\n",
      "  warnings.warn(message)\n",
      "02/07 01:43:01 PM: Computing cosine similarities...\n",
      "02/07 01:43:01 PM: Null hypothesis: no difference between X and Y in association to attributes A and B\n",
      "02/07 01:43:01 PM: Computing pval...\n",
      "02/07 01:43:01 PM: Using non-parametric test\n",
      "02/07 01:43:01 PM: Drawing 9999 samples (and biasing by 1)\n",
      "02/07 01:43:01 PM: pval: 0.0213\n",
      "02/07 01:43:01 PM: computing effect size...\n",
      "02/07 01:43:01 PM: esize: 0.452586\n"
     ]
    },
    {
     "data": {
      "text/html": [
       "<div>\n",
       "<style scoped>\n",
       "    .dataframe tbody tr th:only-of-type {\n",
       "        vertical-align: middle;\n",
       "    }\n",
       "\n",
       "    .dataframe tbody tr th {\n",
       "        vertical-align: top;\n",
       "    }\n",
       "\n",
       "    .dataframe thead th {\n",
       "        text-align: right;\n",
       "    }\n",
       "</style>\n",
       "<table border=\"1\" class=\"dataframe\">\n",
       "  <thead>\n",
       "    <tr style=\"text-align: right;\">\n",
       "      <th></th>\n",
       "      <th>Name</th>\n",
       "      <th>X</th>\n",
       "      <th>Y</th>\n",
       "      <th>A</th>\n",
       "      <th>B</th>\n",
       "      <th>n_t</th>\n",
       "      <th>n_a</th>\n",
       "      <th>p_i</th>\n",
       "      <th>d_i</th>\n",
       "    </tr>\n",
       "  </thead>\n",
       "  <tbody>\n",
       "    <tr>\n",
       "      <th>0</th>\n",
       "      <td>Gender</td>\n",
       "      <td>Male</td>\n",
       "      <td>Female</td>\n",
       "      <td>Career</td>\n",
       "      <td>Family</td>\n",
       "      <td>40</td>\n",
       "      <td>21</td>\n",
       "      <td>0.0213</td>\n",
       "      <td>0.452586</td>\n",
       "    </tr>\n",
       "  </tbody>\n",
       "</table>\n",
       "</div>"
      ],
      "text/plain": [
       "     Name     X       Y       A       B  n_t  n_a     p_i       d_i\n",
       "0  Gender  Male  Female  Career  Family   40   21  0.0213  0.452586"
      ]
     },
     "execution_count": 6,
     "metadata": {},
     "output_type": "execute_result"
    }
   ],
   "source": [
    "X_image = torch.cat(load_dir('./ieat/data/experiments/gender/male/*'))\n",
    "Y_image = torch.cat(load_dir('./ieat/data/experiments/gender/female/*'))\n",
    "A_image = torch.cat(load_dir('./ieat/data/experiments/gender/career/*'))\n",
    "B_image = torch.cat(load_dir('./ieat/data/experiments/gender/family/*'))\n",
    "\n",
    "test = Test(X_image, Y_image, A_image, B_image)\n",
    "out = test.run()\n",
    "        \n",
    "df = pd.DataFrame([{'Name': 'Gender', 'X': 'Male', 'Y': 'Female', 'A': 'Career', 'B': 'Family', 'n_t': X_image.shape[0], 'n_a': A_image.shape[0], 'p_i': out[1], 'd_i': out[0]}])\n",
    "df"
   ]
  },
  {
   "cell_type": "code",
   "execution_count": 7,
   "id": "2b41f4d1",
   "metadata": {},
   "outputs": [
    {
     "name": "stderr",
     "output_type": "stream",
     "text": [
      "/opt/conda/lib/python3.8/site-packages/PIL/Image.py:3007: UserWarning: image file could not be identified because WEBP support not installed\n",
      "  warnings.warn(message)\n",
      "02/07 01:43:03 PM: Computing cosine similarities...\n",
      "02/07 01:43:03 PM: Null hypothesis: no difference between X and Y in association to attributes A and B\n",
      "02/07 01:43:03 PM: Computing pval...\n",
      "02/07 01:43:03 PM: Using non-parametric test\n",
      "02/07 01:43:03 PM: Using exact test (20 partitions)\n",
      "02/07 01:43:03 PM: Equalities contributed 1/20 to p-value\n",
      "02/07 01:43:03 PM: pval: 0.1\n",
      "02/07 01:43:03 PM: computing effect size...\n",
      "02/07 01:43:03 PM: esize: 0.97818\n"
     ]
    },
    {
     "data": {
      "text/html": [
       "<div>\n",
       "<style scoped>\n",
       "    .dataframe tbody tr th:only-of-type {\n",
       "        vertical-align: middle;\n",
       "    }\n",
       "\n",
       "    .dataframe tbody tr th {\n",
       "        vertical-align: top;\n",
       "    }\n",
       "\n",
       "    .dataframe thead th {\n",
       "        text-align: right;\n",
       "    }\n",
       "</style>\n",
       "<table border=\"1\" class=\"dataframe\">\n",
       "  <thead>\n",
       "    <tr style=\"text-align: right;\">\n",
       "      <th></th>\n",
       "      <th>Name</th>\n",
       "      <th>X</th>\n",
       "      <th>Y</th>\n",
       "      <th>A</th>\n",
       "      <th>B</th>\n",
       "      <th>n_t</th>\n",
       "      <th>n_a</th>\n",
       "      <th>p_i</th>\n",
       "      <th>d_i</th>\n",
       "    </tr>\n",
       "  </thead>\n",
       "  <tbody>\n",
       "    <tr>\n",
       "      <th>0</th>\n",
       "      <td>Ethnicity</td>\n",
       "      <td>African-American</td>\n",
       "      <td>European-American</td>\n",
       "      <td>Science</td>\n",
       "      <td>Arts</td>\n",
       "      <td>3</td>\n",
       "      <td>21</td>\n",
       "      <td>0.1</td>\n",
       "      <td>0.97818</td>\n",
       "    </tr>\n",
       "  </tbody>\n",
       "</table>\n",
       "</div>"
      ],
      "text/plain": [
       "        Name                 X                  Y        A     B  n_t  n_a  \\\n",
       "0  Ethnicity  African-American  European-American  Science  Arts    3   21   \n",
       "\n",
       "   p_i      d_i  \n",
       "0  0.1  0.97818  "
      ]
     },
     "execution_count": 7,
     "metadata": {},
     "output_type": "execute_result"
    }
   ],
   "source": [
    "X_image = torch.cat(load_dir('./ieat/data/experiments/race/european-american-male/*'))\n",
    "Y_image = torch.cat(load_dir('./ieat/data/experiments/race/african-american-female/*'))\n",
    "A_image = torch.cat(load_dir('./ieat/data/experiments/gender/science/*'))\n",
    "B_image = torch.cat(load_dir('./ieat/data/experiments/gender/liberal-arts/*'))\n",
    "\n",
    "test = Test(X_image, Y_image, A_image, B_image)\n",
    "out = test.run()\n",
    "        \n",
    "df = pd.DataFrame([{'Name': 'Ethnicity', 'X': 'African-American', 'Y': 'European-American', 'A': 'Science', 'B': 'Arts', 'n_t': X_image.shape[0], 'n_a': A_image.shape[0], 'p_i': out[1], 'd_i': out[0]}])\n",
    "df"
   ]
  },
  {
   "cell_type": "code",
   "execution_count": 8,
   "id": "8ad799ca",
   "metadata": {},
   "outputs": [
    {
     "name": "stderr",
     "output_type": "stream",
     "text": [
      "02/07 01:43:04 PM: Computing cosine similarities...\n",
      "02/07 01:43:04 PM: Null hypothesis: no difference between X and Y in association to attributes A and B\n",
      "02/07 01:43:04 PM: Computing pval...\n",
      "02/07 01:43:04 PM: Using non-parametric test\n",
      "02/07 01:43:04 PM: Using exact test (20 partitions)\n",
      "02/07 01:43:04 PM: Equalities contributed 1/20 to p-value\n",
      "02/07 01:43:04 PM: pval: 0.05\n",
      "02/07 01:43:04 PM: computing effect size...\n",
      "02/07 01:43:04 PM: esize: 1.56983\n"
     ]
    },
    {
     "data": {
      "text/html": [
       "<div>\n",
       "<style scoped>\n",
       "    .dataframe tbody tr th:only-of-type {\n",
       "        vertical-align: middle;\n",
       "    }\n",
       "\n",
       "    .dataframe tbody tr th {\n",
       "        vertical-align: top;\n",
       "    }\n",
       "\n",
       "    .dataframe thead th {\n",
       "        text-align: right;\n",
       "    }\n",
       "</style>\n",
       "<table border=\"1\" class=\"dataframe\">\n",
       "  <thead>\n",
       "    <tr style=\"text-align: right;\">\n",
       "      <th></th>\n",
       "      <th>Name</th>\n",
       "      <th>X</th>\n",
       "      <th>Y</th>\n",
       "      <th>A</th>\n",
       "      <th>B</th>\n",
       "      <th>n_t</th>\n",
       "      <th>n_a</th>\n",
       "      <th>p_i</th>\n",
       "      <th>d_i</th>\n",
       "    </tr>\n",
       "  </thead>\n",
       "  <tbody>\n",
       "    <tr>\n",
       "      <th>0</th>\n",
       "      <td>Ethnicity</td>\n",
       "      <td>African-American</td>\n",
       "      <td>European-American</td>\n",
       "      <td>Engineering</td>\n",
       "      <td>Caregiving</td>\n",
       "      <td>3</td>\n",
       "      <td>12</td>\n",
       "      <td>0.05</td>\n",
       "      <td>1.569828</td>\n",
       "    </tr>\n",
       "  </tbody>\n",
       "</table>\n",
       "</div>"
      ],
      "text/plain": [
       "        Name                 X                  Y            A           B  \\\n",
       "0  Ethnicity  African-American  European-American  Engineering  Caregiving   \n",
       "\n",
       "   n_t  n_a   p_i       d_i  \n",
       "0    3   12  0.05  1.569828  "
      ]
     },
     "execution_count": 8,
     "metadata": {},
     "output_type": "execute_result"
    }
   ],
   "source": [
    "X_image = torch.cat(load_dir('./ieat/data/experiments/race/european-american-male/*'))\n",
    "Y_image = torch.cat(load_dir('./ieat/data/experiments/race/african-american-female/*'))\n",
    "A_image = torch.cat(load_dir('./ieat/data/experiments/gender/engineering/*'))\n",
    "B_image = torch.cat(load_dir('./ieat/data/experiments/gender/care/*'))\n",
    "\n",
    "test = Test(X_image, Y_image, A_image, B_image)\n",
    "out = test.run()\n",
    "        \n",
    "df = pd.DataFrame([{'Name': 'Ethnicity', 'X': 'African-American', 'Y': 'European-American', 'A': 'Engineering', 'B': 'Caregiving', 'n_t': X_image.shape[0], 'n_a': A_image.shape[0], 'p_i': out[1], 'd_i': out[0]}])\n",
    "df"
   ]
  },
  {
   "cell_type": "code",
   "execution_count": 9,
   "id": "2510175e",
   "metadata": {},
   "outputs": [
    {
     "name": "stderr",
     "output_type": "stream",
     "text": [
      "/opt/conda/lib/python3.8/site-packages/PIL/Image.py:3007: UserWarning: image file could not be identified because WEBP support not installed\n",
      "  warnings.warn(message)\n",
      "02/07 01:43:07 PM: Computing cosine similarities...\n",
      "02/07 01:43:07 PM: Null hypothesis: no difference between X and Y in association to attributes A and B\n",
      "02/07 01:43:07 PM: Computing pval...\n",
      "02/07 01:43:07 PM: Using non-parametric test\n",
      "02/07 01:43:07 PM: Using exact test (20 partitions)\n",
      "02/07 01:43:07 PM: Equalities contributed 1/20 to p-value\n",
      "02/07 01:43:07 PM: pval: 0.05\n",
      "02/07 01:43:07 PM: computing effect size...\n",
      "02/07 01:43:07 PM: esize: 1.47994\n"
     ]
    },
    {
     "data": {
      "text/html": [
       "<div>\n",
       "<style scoped>\n",
       "    .dataframe tbody tr th:only-of-type {\n",
       "        vertical-align: middle;\n",
       "    }\n",
       "\n",
       "    .dataframe tbody tr th {\n",
       "        vertical-align: top;\n",
       "    }\n",
       "\n",
       "    .dataframe thead th {\n",
       "        text-align: right;\n",
       "    }\n",
       "</style>\n",
       "<table border=\"1\" class=\"dataframe\">\n",
       "  <thead>\n",
       "    <tr style=\"text-align: right;\">\n",
       "      <th></th>\n",
       "      <th>Name</th>\n",
       "      <th>X</th>\n",
       "      <th>Y</th>\n",
       "      <th>A</th>\n",
       "      <th>B</th>\n",
       "      <th>n_t</th>\n",
       "      <th>n_a</th>\n",
       "      <th>p_i</th>\n",
       "      <th>d_i</th>\n",
       "    </tr>\n",
       "  </thead>\n",
       "  <tbody>\n",
       "    <tr>\n",
       "      <th>0</th>\n",
       "      <td>Ethnicity</td>\n",
       "      <td>African-American</td>\n",
       "      <td>European-American</td>\n",
       "      <td>Career</td>\n",
       "      <td>Family</td>\n",
       "      <td>3</td>\n",
       "      <td>21</td>\n",
       "      <td>0.05</td>\n",
       "      <td>1.479936</td>\n",
       "    </tr>\n",
       "  </tbody>\n",
       "</table>\n",
       "</div>"
      ],
      "text/plain": [
       "        Name                 X                  Y       A       B  n_t  n_a  \\\n",
       "0  Ethnicity  African-American  European-American  Career  Family    3   21   \n",
       "\n",
       "    p_i       d_i  \n",
       "0  0.05  1.479936  "
      ]
     },
     "execution_count": 9,
     "metadata": {},
     "output_type": "execute_result"
    }
   ],
   "source": [
    "X_image = torch.cat(load_dir('./ieat/data/experiments/race/european-american-male/*'))\n",
    "Y_image = torch.cat(load_dir('./ieat/data/experiments/race/african-american-female/*'))\n",
    "A_image = torch.cat(load_dir('./ieat/data/experiments/gender/career/*'))\n",
    "B_image = torch.cat(load_dir('./ieat/data/experiments/gender/family/*'))\n",
    "\n",
    "test = Test(X_image, Y_image, A_image, B_image)\n",
    "out = test.run()\n",
    "        \n",
    "df = pd.DataFrame([{'Name': 'Ethnicity', 'X': 'African-American', 'Y': 'European-American', 'A': 'Career', 'B': 'Family', 'n_t': X_image.shape[0], 'n_a': A_image.shape[0], 'p_i': out[1], 'd_i': out[0]}])\n",
    "df"
   ]
  }
 ],
 "metadata": {
  "kernelspec": {
   "display_name": "Python 3 (ipykernel)",
   "language": "python",
   "name": "python3"
  },
  "language_info": {
   "codemirror_mode": {
    "name": "ipython",
    "version": 3
   },
   "file_extension": ".py",
   "mimetype": "text/x-python",
   "name": "python",
   "nbconvert_exporter": "python",
   "pygments_lexer": "ipython3",
   "version": "3.8.13"
  }
 },
 "nbformat": 4,
 "nbformat_minor": 5
}
